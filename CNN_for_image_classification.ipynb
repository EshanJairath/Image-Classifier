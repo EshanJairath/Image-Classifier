{
  "cells": [
    {
      "cell_type": "markdown",
      "metadata": {
        "id": "982127ab"
      },
      "source": [
        "# CNN for image classification"
      ],
      "id": "982127ab"
    },
    {
      "cell_type": "markdown",
      "metadata": {
        "id": "09b35c83"
      },
      "source": [
        "## Dataset = CIFAR-10"
      ],
      "id": "09b35c83"
    },
    {
      "cell_type": "markdown",
      "metadata": {
        "id": "ef6eb9b0"
      },
      "source": [
        "In this dataset we have 10 possible classes which are arranges according to their label\n",
        "\n",
        "0.  Airplane \n",
        "1.  Automobile\n",
        "2.  Bird \n",
        "3.  cat\n",
        "4.  Deer\n",
        "5.  Dog\n",
        "6.  Frog\n",
        "7.  Horse\n",
        "8.  Ship \n",
        "9.  Truck"
      ],
      "id": "ef6eb9b0"
    },
    {
      "cell_type": "code",
      "execution_count": null,
      "metadata": {
        "id": "b5e0f445"
      },
      "outputs": [],
      "source": [
        "from keras.datasets import cifar10"
      ],
      "id": "b5e0f445"
    },
    {
      "cell_type": "code",
      "execution_count": null,
      "metadata": {
        "id": "269e95ce",
        "colab": {
          "base_uri": "https://localhost:8080/"
        },
        "outputId": "e690a8b8-058f-483d-b710-77991907b0de"
      },
      "outputs": [
        {
          "output_type": "stream",
          "name": "stdout",
          "text": [
            "Downloading data from https://www.cs.toronto.edu/~kriz/cifar-10-python.tar.gz\n",
            "170500096/170498071 [==============================] - 2s 0us/step\n",
            "170508288/170498071 [==============================] - 2s 0us/step\n"
          ]
        }
      ],
      "source": [
        "dataset = cifar10.load_data()"
      ],
      "id": "269e95ce"
    },
    {
      "cell_type": "code",
      "execution_count": null,
      "metadata": {
        "id": "ea822f0f"
      },
      "outputs": [],
      "source": [
        "(X_train, Y_train),(X_test, Y_test) = dataset\n",
        "# Splits the dataset in training and testing"
      ],
      "id": "ea822f0f"
    },
    {
      "cell_type": "code",
      "execution_count": null,
      "metadata": {
        "id": "627147c6"
      },
      "outputs": [],
      "source": [
        "import keras\n",
        "from tensorflow.keras.utils import to_categorical as OneHot \n",
        "Y_train_one_hot = OneHot(Y_train,10)\n",
        "Y_test_one_hot = OneHot(Y_test,10)"
      ],
      "id": "627147c6"
    },
    {
      "cell_type": "code",
      "execution_count": null,
      "metadata": {
        "id": "b89b997c"
      },
      "outputs": [],
      "source": [
        " X_train = X_train.astype('float32')\n",
        " X_test = X_test.astype('float32')\n",
        " X_train = X_train/255\n",
        " X_test = X_test/255"
      ],
      "id": "b89b997c"
    },
    {
      "cell_type": "code",
      "execution_count": null,
      "metadata": {
        "id": "4e306674"
      },
      "outputs": [],
      "source": [
        "import keras\n",
        "from keras.models import Sequential\n",
        "from keras.layers import Dense, Dropout, Flatten, Conv2D, MaxPooling2D\n",
        "from keras.layers import BatchNormalization\n",
        "## Importing all the layers to build the CNN"
      ],
      "id": "4e306674"
    },
    {
      "cell_type": "code",
      "execution_count": null,
      "metadata": {
        "id": "8f857b05"
      },
      "outputs": [],
      "source": [
        "model1 = Sequential() "
      ],
      "id": "8f857b05"
    },
    {
      "cell_type": "code",
      "execution_count": null,
      "metadata": {
        "id": "OFvWZNAU5jS0"
      },
      "outputs": [],
      "source": [
        "# # # Model 1\n",
        "\n",
        "model1.add(Conv2D(32,(3,3), activation = 'relu', padding = 'same', input_shape = (32,32,3)))\n",
        "# first layer of the neural network. \n",
        "model1.add(Conv2D(32,(3,3), activation = 'relu', padding = 'same'))\n",
        "# second layer of the neural network in this we dont need to specify input shape as it will take input form the previous layer\n",
        "model1.add(MaxPooling2D(pool_size=(2,2)))\n",
        "model1.add(Dropout(0.25))\n",
        "model1.add(Conv2D(64,(3,3), activation = 'relu', padding = 'same'))\n",
        "model1.add(Conv2D(64,(3,3), activation = 'relu', padding = 'same'))\n",
        "model1.add(MaxPooling2D(pool_size=(2,2)))\n",
        "model1.add(Dropout(0.25))\n",
        "model1.add(Flatten())\n",
        "model1.add(Dense(512, activation = 'relu'))\n",
        "model1.add(Dropout(0.5))\n",
        "model1.add(Dense(10, activation = 'softmax'))\n",
        "model1.compile(loss='categorical_crossentropy', optimizer ='adam', metrics=['accuracy'])\n",
        "hist = model1.fit(X_train, Y_train_one_hot, batch_size = 32, epochs = 25 , validation_split = 0.2, verbose = 1)\n",
        "print(\"Model 1 with validation data for 100 epochs running\")\n",
        "model1.save('model1.h5')\n",
        "print(\"model training complete and saved successfully !\")"
      ],
      "id": "OFvWZNAU5jS0"
    },
    {
      "cell_type": "code",
      "source": [
        "# Model 2\n",
        "import keras\n",
        "from keras.models import Sequential\n",
        "from keras.layers import Dense, Dropout, Flatten, Conv2D, MaxPooling2D\n",
        "## Importing all the layers to build the CNN\n",
        "\n",
        "model2 = Sequential() \n",
        "# first layer of the neural network. \n",
        "model2.add(Conv2D(32,(3,3), activation = 'relu', padding = 'same', input_shape = (32,32,3)))\n",
        "# second layer of the neural network in this we dont need to specify input shape as it will  take input form the previous layer\n",
        "model2.add(Conv2D(32,(3,3), activation = 'relu', padding = 'same')) \n",
        "model2.add(MaxPooling2D(pool_size=(2,2)))\n",
        "model2.add(Dropout(0.2))\n",
        "model2.add(Conv2D(64,(3,3), activation = 'relu', padding = 'same'))\n",
        "model2.add(Conv2D(64,(3,3), activation = 'relu', padding = 'same'))\n",
        "model2.add(MaxPooling2D(pool_size=(2,2)))\n",
        "model2.add(Dropout(0.2))\n",
        "model2.add(Conv2D(128,(3,3), activation = 'relu', padding = 'same'))\n",
        "model2.add(Conv2D(128,(3,3), activation = 'relu', padding = 'same'))\n",
        "model2.add(MaxPooling2D(pool_size=(2,2)))\n",
        "model2.add(Dropout(0.2))\n",
        "model2.add(Flatten())\n",
        "model2.add(Dense(128, activation = 'relu'))\n",
        "model2.add(Dropout(0.2))\n",
        "model2.add(Dense(10, activation = 'softmax'))\n",
        "model2.compile(loss='categorical_crossentropy', optimizer = \"sgd\", metrics=['accuracy'])\n",
        "\n",
        "# data Augmentation\n",
        "from keras.preprocessing.image import ImageDataGenerator\n",
        "\n",
        "#ImageDataGenerator from keras is used to modify image\n",
        "datagenerator = ImageDataGenerator(\n",
        "    width_shift_range=0.1,\n",
        "    height_shift_range = 0.1,\n",
        "    horizontal_flip=True,\n",
        "    )\n",
        "\n",
        "# new training set is created with modified images\n",
        "new_train_set = datagenerator.flow(X_train, Y_train_one_hot, batch_size=32)\n",
        "\n",
        "# no.of steps that apply per epoch \n",
        "steps  = int(X_train.shape[0]/32)\n",
        "\n",
        "# new model2 is created with augmented data and fitting it directly on the dataset.\n",
        "augmented_model2 = model2.fit_generator(new_train_set, steps_per_epoch= steps , epochs=50, \n",
        "                                      validation_data=(X_test, Y_test_one_hot), verbose = 1)\n",
        "\n",
        "model2.save('model2.h5')"
      ],
      "metadata": {
        "colab": {
          "base_uri": "https://localhost:8080/"
        },
        "id": "l9gK-zU_PD7B",
        "outputId": "1889a6d7-affa-49f8-b3b4-05070de7b44f"
      },
      "id": "l9gK-zU_PD7B",
      "execution_count": null,
      "outputs": [
        {
          "output_type": "stream",
          "name": "stderr",
          "text": [
            "/usr/local/lib/python3.7/dist-packages/ipykernel_launcher.py:46: UserWarning: `Model.fit_generator` is deprecated and will be removed in a future version. Please use `Model.fit`, which supports generators.\n"
          ]
        },
        {
          "output_type": "stream",
          "name": "stdout",
          "text": [
            "Epoch 1/50\n",
            "1562/1562 [==============================] - 64s 33ms/step - loss: 2.1443 - accuracy: 0.2004 - val_loss: 1.9901 - val_accuracy: 0.2788\n",
            "Epoch 2/50\n",
            "1562/1562 [==============================] - 51s 33ms/step - loss: 1.9250 - accuracy: 0.2989 - val_loss: 1.7287 - val_accuracy: 0.3804\n",
            "Epoch 3/50\n",
            "1562/1562 [==============================] - 51s 33ms/step - loss: 1.7367 - accuracy: 0.3600 - val_loss: 1.5861 - val_accuracy: 0.4164\n",
            "Epoch 4/50\n",
            "1562/1562 [==============================] - 52s 33ms/step - loss: 1.6072 - accuracy: 0.4099 - val_loss: 1.4087 - val_accuracy: 0.4846\n",
            "Epoch 5/50\n",
            "1562/1562 [==============================] - 51s 33ms/step - loss: 1.5144 - accuracy: 0.4489 - val_loss: 1.3383 - val_accuracy: 0.5137\n",
            "Epoch 6/50\n",
            "1562/1562 [==============================] - 51s 33ms/step - loss: 1.4327 - accuracy: 0.4821 - val_loss: 1.2763 - val_accuracy: 0.5372\n",
            "Epoch 7/50\n",
            "1562/1562 [==============================] - 51s 33ms/step - loss: 1.3585 - accuracy: 0.5106 - val_loss: 1.2074 - val_accuracy: 0.5710\n",
            "Epoch 8/50\n",
            "1562/1562 [==============================] - 52s 33ms/step - loss: 1.2911 - accuracy: 0.5395 - val_loss: 1.1796 - val_accuracy: 0.5768\n",
            "Epoch 9/50\n",
            "1562/1562 [==============================] - 51s 33ms/step - loss: 1.2333 - accuracy: 0.5587 - val_loss: 1.0702 - val_accuracy: 0.6168\n",
            "Epoch 10/50\n",
            "1562/1562 [==============================] - 51s 33ms/step - loss: 1.1794 - accuracy: 0.5773 - val_loss: 1.0528 - val_accuracy: 0.6201\n",
            "Epoch 11/50\n",
            "1562/1562 [==============================] - 51s 33ms/step - loss: 1.1312 - accuracy: 0.5955 - val_loss: 0.9958 - val_accuracy: 0.6447\n",
            "Epoch 12/50\n",
            "1562/1562 [==============================] - 51s 33ms/step - loss: 1.0900 - accuracy: 0.6124 - val_loss: 0.9387 - val_accuracy: 0.6661\n",
            "Epoch 13/50\n",
            "1562/1562 [==============================] - 52s 33ms/step - loss: 1.0500 - accuracy: 0.6284 - val_loss: 0.9606 - val_accuracy: 0.6614\n",
            "Epoch 14/50\n",
            "1562/1562 [==============================] - 51s 32ms/step - loss: 1.0245 - accuracy: 0.6355 - val_loss: 0.9131 - val_accuracy: 0.6818\n",
            "Epoch 15/50\n",
            "1562/1562 [==============================] - 51s 33ms/step - loss: 0.9904 - accuracy: 0.6496 - val_loss: 0.8836 - val_accuracy: 0.6849\n",
            "Epoch 16/50\n",
            "1562/1562 [==============================] - 52s 33ms/step - loss: 0.9607 - accuracy: 0.6586 - val_loss: 0.8979 - val_accuracy: 0.6780\n",
            "Epoch 17/50\n",
            "1562/1562 [==============================] - 51s 33ms/step - loss: 0.9286 - accuracy: 0.6710 - val_loss: 0.7924 - val_accuracy: 0.7205\n",
            "Epoch 18/50\n",
            "1562/1562 [==============================] - 51s 32ms/step - loss: 0.9111 - accuracy: 0.6786 - val_loss: 0.8649 - val_accuracy: 0.6942\n",
            "Epoch 19/50\n",
            "1562/1562 [==============================] - 51s 33ms/step - loss: 0.8847 - accuracy: 0.6897 - val_loss: 0.7598 - val_accuracy: 0.7296\n",
            "Epoch 20/50\n",
            "1562/1562 [==============================] - 51s 33ms/step - loss: 0.8629 - accuracy: 0.6964 - val_loss: 0.7631 - val_accuracy: 0.7297\n",
            "Epoch 21/50\n",
            "1562/1562 [==============================] - 52s 33ms/step - loss: 0.8408 - accuracy: 0.7029 - val_loss: 0.7584 - val_accuracy: 0.7313\n",
            "Epoch 22/50\n",
            "1562/1562 [==============================] - 51s 33ms/step - loss: 0.8222 - accuracy: 0.7117 - val_loss: 0.7320 - val_accuracy: 0.7403\n",
            "Epoch 23/50\n",
            "1562/1562 [==============================] - 51s 33ms/step - loss: 0.8062 - accuracy: 0.7171 - val_loss: 0.7286 - val_accuracy: 0.7481\n",
            "Epoch 24/50\n",
            "1562/1562 [==============================] - 51s 33ms/step - loss: 0.7894 - accuracy: 0.7201 - val_loss: 0.7249 - val_accuracy: 0.7482\n",
            "Epoch 25/50\n",
            "1562/1562 [==============================] - 52s 33ms/step - loss: 0.7697 - accuracy: 0.7318 - val_loss: 0.7239 - val_accuracy: 0.7473\n",
            "Epoch 26/50\n",
            "1562/1562 [==============================] - 52s 33ms/step - loss: 0.7636 - accuracy: 0.7313 - val_loss: 0.6517 - val_accuracy: 0.7727\n",
            "Epoch 27/50\n",
            "1562/1562 [==============================] - 51s 33ms/step - loss: 0.7459 - accuracy: 0.7409 - val_loss: 0.6601 - val_accuracy: 0.7682\n",
            "Epoch 28/50\n",
            "1562/1562 [==============================] - 51s 33ms/step - loss: 0.7285 - accuracy: 0.7450 - val_loss: 0.6501 - val_accuracy: 0.7734\n",
            "Epoch 29/50\n",
            "1562/1562 [==============================] - 51s 33ms/step - loss: 0.7173 - accuracy: 0.7463 - val_loss: 0.6395 - val_accuracy: 0.7753\n",
            "Epoch 30/50\n",
            "1562/1562 [==============================] - 52s 33ms/step - loss: 0.7044 - accuracy: 0.7550 - val_loss: 0.6566 - val_accuracy: 0.7721\n",
            "Epoch 31/50\n",
            "1562/1562 [==============================] - 51s 33ms/step - loss: 0.6941 - accuracy: 0.7571 - val_loss: 0.6008 - val_accuracy: 0.7923\n",
            "Epoch 32/50\n",
            "1562/1562 [==============================] - 51s 33ms/step - loss: 0.6848 - accuracy: 0.7611 - val_loss: 0.6394 - val_accuracy: 0.7865\n",
            "Epoch 33/50\n",
            "1562/1562 [==============================] - 51s 33ms/step - loss: 0.6788 - accuracy: 0.7639 - val_loss: 0.6711 - val_accuracy: 0.7674\n",
            "Epoch 34/50\n",
            "1562/1562 [==============================] - 51s 33ms/step - loss: 0.6626 - accuracy: 0.7690 - val_loss: 0.6233 - val_accuracy: 0.7864\n",
            "Epoch 35/50\n",
            "1562/1562 [==============================] - 51s 33ms/step - loss: 0.6548 - accuracy: 0.7718 - val_loss: 0.6163 - val_accuracy: 0.7846\n",
            "Epoch 36/50\n",
            "1562/1562 [==============================] - 51s 33ms/step - loss: 0.6461 - accuracy: 0.7766 - val_loss: 0.5850 - val_accuracy: 0.7960\n",
            "Epoch 37/50\n",
            "1562/1562 [==============================] - 52s 33ms/step - loss: 0.6382 - accuracy: 0.7770 - val_loss: 0.6297 - val_accuracy: 0.7864\n",
            "Epoch 38/50\n",
            "1562/1562 [==============================] - 52s 33ms/step - loss: 0.6260 - accuracy: 0.7819 - val_loss: 0.5743 - val_accuracy: 0.8051\n",
            "Epoch 39/50\n",
            "1562/1562 [==============================] - 52s 33ms/step - loss: 0.6226 - accuracy: 0.7831 - val_loss: 0.5745 - val_accuracy: 0.8015\n",
            "Epoch 40/50\n",
            "1562/1562 [==============================] - 51s 33ms/step - loss: 0.6116 - accuracy: 0.7872 - val_loss: 0.5722 - val_accuracy: 0.8034\n",
            "Epoch 41/50\n",
            "1562/1562 [==============================] - 51s 33ms/step - loss: 0.6084 - accuracy: 0.7880 - val_loss: 0.5675 - val_accuracy: 0.8057\n",
            "Epoch 42/50\n",
            "1562/1562 [==============================] - 52s 33ms/step - loss: 0.5989 - accuracy: 0.7912 - val_loss: 0.5513 - val_accuracy: 0.8087\n",
            "Epoch 43/50\n",
            "1562/1562 [==============================] - 51s 33ms/step - loss: 0.5858 - accuracy: 0.7950 - val_loss: 0.5795 - val_accuracy: 0.8048\n",
            "Epoch 44/50\n",
            "1562/1562 [==============================] - 51s 33ms/step - loss: 0.5844 - accuracy: 0.7946 - val_loss: 0.5411 - val_accuracy: 0.8140\n",
            "Epoch 45/50\n",
            "1562/1562 [==============================] - 51s 33ms/step - loss: 0.5734 - accuracy: 0.8014 - val_loss: 0.5531 - val_accuracy: 0.8129\n",
            "Epoch 46/50\n",
            "1562/1562 [==============================] - 51s 33ms/step - loss: 0.5724 - accuracy: 0.8005 - val_loss: 0.5322 - val_accuracy: 0.8202\n",
            "Epoch 47/50\n",
            "1562/1562 [==============================] - 51s 33ms/step - loss: 0.5636 - accuracy: 0.8050 - val_loss: 0.5449 - val_accuracy: 0.8171\n",
            "Epoch 48/50\n",
            "1562/1562 [==============================] - 51s 33ms/step - loss: 0.5593 - accuracy: 0.8060 - val_loss: 0.5805 - val_accuracy: 0.8031\n",
            "Epoch 49/50\n",
            "1562/1562 [==============================] - 52s 33ms/step - loss: 0.5506 - accuracy: 0.8073 - val_loss: 0.5207 - val_accuracy: 0.8222\n",
            "Epoch 50/50\n",
            "1562/1562 [==============================] - 52s 33ms/step - loss: 0.5418 - accuracy: 0.8090 - val_loss: 0.5298 - val_accuracy: 0.8225\n"
          ]
        }
      ]
    },
    {
      "cell_type": "code",
      "execution_count": null,
      "metadata": {
        "id": "ef7746c3"
      },
      "outputs": [],
      "source": [
        "\n",
        "# Model 3\n",
        "\n",
        "model3 = Sequential()\n",
        "# first layer of the neural network. \n",
        "model3.add(Conv2D(32,(3,3), activation = 'relu', padding = 'same', input_shape = (32,32,3)))\n",
        "model3.add(BatchNormalization())\n",
        "# second layer of the neural network in this we dont need to specify input shape as it will take input form the previous layer\n",
        "model3.add(Conv2D(32,(3,3), activation = 'relu', padding = 'same')) \n",
        "model3.add(BatchNormalization())\n",
        "model3.add(MaxPooling2D(pool_size=(2,2)))\n",
        "model3.add(Dropout(0.2))\n",
        "model3.add(Conv2D(64,(3,3), activation = 'relu', padding = 'same'))\n",
        "model3.add(BatchNormalization())\n",
        "model3.add(Conv2D(64,(3,3), activation = 'relu', padding = 'same'))\n",
        "model3.add(BatchNormalization())\n",
        "model3.add(MaxPooling2D(pool_size=(2,2)))\n",
        "model3.add(Dropout(0.2))\n",
        "model3.add(Conv2D(128,(3,3), activation = 'relu', padding = 'same'))\n",
        "model3.add(BatchNormalization())\n",
        "model3.add(Conv2D(128,(3,3), activation = 'relu', padding = 'same'))\n",
        "model3.add(BatchNormalization())\n",
        "model3.add(MaxPooling2D(pool_size=(2,2)))\n",
        "model3.add(Dropout(0.2))\n",
        "model3.add(Flatten())\n",
        "model3.add(Dense(128, activation = 'relu'))\n",
        "model3.add(Dropout(0.2))\n",
        "model3.add(Dense(10, activation = 'softmax'))\n",
        "model3.compile(loss='categorical_crossentropy', optimizer = \"sgd\", metrics=['accuracy'])\n",
        "\n",
        "# data Augmentation\n",
        "from keras.preprocessing.image import ImageDataGenerator\n",
        "\n",
        "#ImageDataGenerator is used to modify image\n",
        "datagen = ImageDataGenerator(\n",
        "    width_shift_range=0.1,\n",
        "    height_shift_range = 0.1,\n",
        "    horizontal_flip=True,\n",
        "    )\n",
        "\n",
        "# new training set is created with modified images\n",
        "new_train_set = datagen.flow(X_train, Y_train_one_hot, batch_size=32)\n",
        "\n",
        "# no.of steps that apply per epoch \n",
        "steps  = int(X_train.shape[0]/32)\n",
        "\n",
        "\n",
        "# new model is created with augmented data\n",
        "augmented_model = model3.fit_generator(new_train_set, steps_per_epoch= steps , epochs=50, \n",
        "                                      validation_data=(X_test, Y_test_one_hot), verbose = 1)\n"
      ],
      "id": "ef7746c3"
    },
    {
      "cell_type": "code",
      "execution_count": null,
      "metadata": {
        "id": "3d031509"
      },
      "outputs": [],
      "source": [
        "# compile model\n",
        "from tensorflow.keras.optimizers import SGD\n",
        "opt = SGD(lr=0.001, momentum=0.9)\n",
        "model3.compile(loss='categorical_crossentropy', optimizer = \"adam\", metrics=['accuracy'])"
      ],
      "id": "3d031509"
    },
    {
      "cell_type": "markdown",
      "source": [
        ""
      ],
      "metadata": {
        "id": "YcvqKpJR57cA"
      },
      "id": "YcvqKpJR57cA"
    },
    {
      "cell_type": "code",
      "execution_count": null,
      "metadata": {
        "id": "Y40ddCjHBqws"
      },
      "outputs": [],
      "source": [
        "hist = model3.fit(X_train, Y_train_one_hot, batch_size = 32, epochs = 25 , validation_split=0.2, verbose = 1)\n",
        "print(\"Model 2 with validation data for 100 epochs running\")\n",
        "# with validation split we do not need to split our dataset into training set and validation set in the begining\n",
        "# In this case 20% of the datset will be used as the validation set\n",
        "\n",
        "hist = model3.fit(X_train, Y_train_one_hot, batch_size = 32, epochs = 25 , \n",
        "                 validation_data = (X_test,Y_test_one_hot), verbose = 1)"
      ],
      "id": "Y40ddCjHBqws"
    },
    {
      "cell_type": "code",
      "execution_count": null,
      "metadata": {
        "id": "vCs2jeFZZvzD"
      },
      "outputs": [],
      "source": [
        "X_test.shape"
      ],
      "id": "vCs2jeFZZvzD"
    },
    {
      "cell_type": "code",
      "execution_count": null,
      "metadata": {
        "colab": {
          "base_uri": "https://localhost:8080/"
        },
        "id": "h1bKZJxiB-a-",
        "outputId": "e2e98bd9-ee12-4476-cf75-f48ca8f0678d"
      },
      "outputs": [
        {
          "output_type": "stream",
          "name": "stdout",
          "text": [
            "313/313 [==============================] - 3s 9ms/step - loss: 0.4597 - accuracy: 0.8501\n"
          ]
        }
      ],
      "source": [
        "acc = model3.evaluate(X_test, Y_test_one_hot)"
      ],
      "id": "h1bKZJxiB-a-"
    },
    {
      "cell_type": "code",
      "execution_count": null,
      "metadata": {
        "colab": {
          "base_uri": "https://localhost:8080/",
          "height": 295
        },
        "id": "f772752c",
        "outputId": "1223553e-bebe-4739-bae7-27c07091d5c7"
      },
      "outputs": [
        {
          "output_type": "display_data",
          "data": {
            "image/png": "[encoded data removed]",
            "text/plain": [
              "<Figure size 432x288 with 1 Axes>"
            ]
          },
          "metadata": {
            "needs_background": "light"
          }
        }
      ],
      "source": [
        "import matplotlib.pyplot as plt\n",
        "\n",
        "plt.plot(augmented_model.history['loss'])\n",
        "plt.plot(augmented_model.history['val_loss'])\n",
        "plt.title('Model loss')\n",
        "plt.ylabel('Loss')\n",
        "plt.xlabel('Epoch')\n",
        "plt.legend(['Train', 'Val'], loc='upper right')\n",
        "plt.show()"
      ],
      "id": "f772752c"
    },
    {
      "cell_type": "code",
      "execution_count": null,
      "metadata": {
        "colab": {
          "base_uri": "https://localhost:8080/",
          "height": 295
        },
        "id": "690561a4",
        "outputId": "cc70f5bd-9049-4f62-894e-4b598b64a863"
      },
      "outputs": [
        {
          "output_type": "display_data",
          "data": {
            "image/png": "[encoded data removed]",
            "text/plain": [
              "<Figure size 432x288 with 1 Axes>"
            ]
          },
          "metadata": {
            "needs_background": "light"
          }
        }
      ],
      "source": [
        "plt.plot(augmented_model.history['accuracy'])\n",
        "plt.plot(augmented_model.history['val_accuracy'])\n",
        "plt.title('Model accuracy')\n",
        "plt.ylabel('Accuracy')\n",
        "plt.xlabel('Epoch')\n",
        "plt.legend(['Train', 'Val'], loc='lower right')\n",
        "plt.show()\n"
      ],
      "id": "690561a4"
    },
    {
      "cell_type": "code",
      "execution_count": null,
      "metadata": {
        "id": "smG2WmlBuYoj"
      },
      "outputs": [],
      "source": [
        "my_img = plt.imread(\"cat-frog.jpg\")"
      ],
      "id": "smG2WmlBuYoj"
    },
    {
      "cell_type": "code",
      "execution_count": null,
      "metadata": {
        "id": "TSY9m859v2L9"
      },
      "outputs": [],
      "source": [
        "from skimage.transform import resize\n",
        "my_img_resized = resize(my_img,(32,32,3))"
      ],
      "id": "TSY9m859v2L9"
    },
    {
      "cell_type": "code",
      "execution_count": null,
      "metadata": {
        "id": "ICJ-wj0Vv9M2",
        "colab": {
          "base_uri": "https://localhost:8080/",
          "height": 266
        },
        "outputId": "ff26f912-968e-4d2a-e8bb-5702913aedc5"
      },
      "outputs": [
        {
          "output_type": "display_data",
          "data": {
            "image/png": "[encoded data removed]",
            "text/plain": [
              "<Figure size 432x288 with 1 Axes>"
            ]
          },
          "metadata": {
            "needs_background": "light"
          }
        }
      ],
      "source": [
        "img = plt.imshow(my_img_resized)"
      ],
      "id": "ICJ-wj0Vv9M2"
    },
    {
      "cell_type": "code",
      "execution_count": null,
      "metadata": {
        "id": "7UsXzj5cFj8V"
      },
      "outputs": [],
      "source": [
        "import numpy as np \n",
        "probabilities = model.predict(np.array([my_img_resized,]))"
      ],
      "id": "7UsXzj5cFj8V"
    },
    {
      "cell_type": "code",
      "execution_count": null,
      "metadata": {
        "id": "2XmYFWv_FpZy",
        "colab": {
          "base_uri": "https://localhost:8080/"
        },
        "outputId": "05cb246d-2bb4-4f7d-ceb8-36f273be56a9"
      },
      "outputs": [
        {
          "output_type": "execute_result",
          "data": {
            "text/plain": [
              "array([[1.2858708e-05, 1.3957443e-04, 1.2045423e-02, 2.2246581e-02,\n",
              "        4.1112150e-03, 9.5946050e-01, 7.7225978e-04, 1.1991545e-03,\n",
              "        4.1149195e-07, 1.2072728e-05]], dtype=float32)"
            ]
          },
          "metadata": {},
          "execution_count": 21
        }
      ],
      "source": [
        "probabilities"
      ],
      "id": "2XmYFWv_FpZy"
    },
    {
      "cell_type": "code",
      "execution_count": null,
      "metadata": {
        "id": "gaNrC8XzFqQE",
        "colab": {
          "base_uri": "https://localhost:8080/"
        },
        "outputId": "22309f8f-fb02-4aa3-e7f0-06f305f703eb"
      },
      "outputs": [
        {
          "output_type": "stream",
          "name": "stdout",
          "text": [
            "Most likely class: dog -- Possibility: 95.94604969024658 %\n",
            "Second most likely class: cat -- Possibility: 2.2246580570936203 %\n",
            "Third most likely class: bird -- Possibility: 1.2045422568917274 %\n",
            "Fourth most likely class: deer -- Possibility: 0.4111215006560087 %\n",
            "Fifth most likely class: horse -- Possibility: 0.11991545325145125 %\n"
          ]
        }
      ],
      "source": [
        "number_to_class = ['airplane','automobile', 'bird', 'cat', 'deer', 'dog', 'frog', 'horse', 'ship', 'truck']\n",
        "index = np.argsort(probabilities[0,:])\n",
        "print(\"Most likely class:\", number_to_class[index[9]], \"-- Possibility:\", probabilities[0,index[9]]*100, \"%\")\n",
        "print(\"Second most likely class:\", number_to_class[index[8]], \"-- Possibility:\", probabilities[0,index[8]]*100, \"%\")\n",
        "print(\"Third most likely class:\", number_to_class[index[7]], \"-- Possibility:\", probabilities[0,index[7]]*100, \"%\")\n",
        "print(\"Fourth most likely class:\", number_to_class[index[6]], \"-- Possibility:\", probabilities[0,index[6]]*100, \"%\")\n",
        "print(\"Fifth most likely class:\", number_to_class[index[5]], \"-- Possibility:\", probabilities[0,index[5]]*100, \"%\")"
      ],
      "id": "gaNrC8XzFqQE"
    },
    {
      "cell_type": "code",
      "execution_count": null,
      "metadata": {
        "id": "Upmh1jUsFtsS"
      },
      "outputs": [],
      "source": [
        ""
      ],
      "id": "Upmh1jUsFtsS"
    }
  ],
  "metadata": {
    "accelerator": "GPU",
    "colab": {
      "collapsed_sections": [],
      "name": "CNN for image classification.ipynb",
      "provenance": []
    },
    "kernelspec": {
      "display_name": "Python 3",
      "language": "python",
      "name": "python3"
    },
    "language_info": {
      "codemirror_mode": {
        "name": "ipython",
        "version": 3
      },
      "file_extension": ".py",
      "mimetype": "text/x-python",
      "name": "python",
      "nbconvert_exporter": "python",
      "pygments_lexer": "ipython3",
      "version": "3.7.11"
    }
  },
  "nbformat": 4,
  "nbformat_minor": 5
}