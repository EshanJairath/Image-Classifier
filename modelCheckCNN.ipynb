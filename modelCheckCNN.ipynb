{
  "nbformat": 4,
  "nbformat_minor": 0,
  "metadata": {
    "colab": {
      "name": "modelCheckCNN.ipynb",
      "provenance": [],
      "collapsed_sections": []
    },
    "kernelspec": {
      "name": "python3",
      "display_name": "Python 3"
    },
    "language_info": {
      "name": "python"
    }
  },
  "cells": [
    {
      "cell_type": "code",
      "execution_count": null,
      "metadata": {
        "id": "LmdlUNvEqlcF"
      },
      "outputs": [],
      "source": [
        "import keras\n",
        "model = keras.models.load_model('Write the model name !')"
      ]
    },
    {
      "cell_type": "code",
      "execution_count": null,
      "metadata": {
        "id": "smG2WmlBuYoj",
        "colab": {
          "base_uri": "https://localhost:8080/"
        },
        "outputId": "898cc670-d759-400f-8ed6-c2d4636c5f7e"
      },
      "outputs": [
        {
          "output_type": "stream",
          "name": "stdout",
          "text": [
            "Image 1: horse -- Possibility: 90.92645049095154 %\n",
            "Image 2: frog -- Possibility: 99.99991655349731 %\n",
            "Image 3: deer -- Possibility: 80.75542449951172 %\n",
            "Image 4: airplane -- Possibility: 99.97705817222595 %\n",
            "Image 5: dog -- Possibility: 99.49689507484436 %\n",
            "Image 6: bird -- Possibility: 99.86674785614014 %\n",
            "Image 7: deer -- Possibility: 58.287352323532104 %\n",
            "Image 8: automobile -- Possibility: 100.0 %\n",
            "Image 9: ship -- Possibility: 99.99958276748657 %\n",
            "Image 10: truck -- Possibility: 100.0 %\n"
          ]
        }
      ],
      "source": [
        "import numpy as np \n",
        "from skimage.transform import resize\n",
        "import matplotlib.pyplot as plt\n",
        "\n",
        "\n",
        "\n",
        "my_img = plt.imread(\"img1.jpg\")\n",
        "\n",
        "my_img_resized = resize(my_img,(32,32,3))\n",
        "\n",
        "probabilities = model.predict(np.array([my_img_resized,]))\n",
        "number_to_class = ['airplane','automobile', 'bird', 'cat', 'deer', 'dog', 'frog', 'horse', 'ship', 'truck']\n",
        "\n",
        "index = np.argsort(probabilities[0,:])\n",
        "print(\"Image 1:\", number_to_class[index[9]], \"-- Possibility:\", probabilities[0,index[9]]*100, \"%\")\n",
        "\n",
        "\n",
        "# image 2\n",
        "my_img2 = plt.imread(\"img2.jpg\")\n",
        "my_img2_resized = resize(my_img2,(32,32,3))\n",
        "\n",
        "probabilities2 = model.predict(np.array([my_img2_resized,]))\n",
        "number_to_class2 = ['airplane','automobile', 'bird', 'cat', 'deer', 'dog', 'frog', 'horse', 'ship', 'truck']\n",
        "\n",
        "index = np.argsort(probabilities2[0,:])\n",
        "print(\"Image 2:\", number_to_class2[index[9]], \"-- Possibility:\", probabilities2[0,index[9]]*100, \"%\")\n",
        "\n",
        "\n",
        "\n",
        "# image 3\n",
        "my_img3 = plt.imread(\"img3.jpg\")\n",
        "my_img3_resized = resize(my_img3,(32,32,3))\n",
        "\n",
        "probabilities3 = model.predict(np.array([my_img3_resized,]))\n",
        "number_to_class3 = ['airplane','automobile', 'bird', 'cat', 'deer', 'dog', 'frog', 'horse', 'ship', 'truck']\n",
        "\n",
        "index = np.argsort(probabilities3[0,:])\n",
        "print(\"Image 3:\", number_to_class3[index[9]], \"-- Possibility:\", probabilities3[0,index[9]]*100, \"%\")\n",
        "\n",
        "\n",
        "\n",
        "# image 4\n",
        "my_img4 = plt.imread(\"img4.jpg\")\n",
        "my_img4_resized = resize(my_img4,(32,32,3))\n",
        "\n",
        "probabilities4 = model.predict(np.array([my_img4_resized,]))\n",
        "number_to_class4 = ['airplane','automobile', 'bird', 'cat', 'deer', 'dog', 'frog', 'horse', 'ship', 'truck']\n",
        "\n",
        "index = np.argsort(probabilities4[0,:])\n",
        "print(\"Image 4:\", number_to_class4[index[9]], \"-- Possibility:\", probabilities4[0,index[9]]*100, \"%\")\n",
        "\n",
        "\n",
        "# image 5\n",
        "my_img5 = plt.imread(\"img5.jpg\")\n",
        "my_img5_resized = resize(my_img5,(32,32,3))\n",
        "\n",
        "probabilities5 = model.predict(np.array([my_img5_resized,]))\n",
        "number_to_class5 = ['airplane','automobile', 'bird', 'cat', 'deer', 'dog', 'frog', 'horse', 'ship', 'truck']\n",
        "\n",
        "index = np.argsort(probabilities5[0,:])\n",
        "print(\"Image 5:\", number_to_class5[index[9]], \"-- Possibility:\", probabilities5[0,index[9]]*100, \"%\")\n",
        "\n",
        "\n",
        "# image 6\n",
        "my_img6 = plt.imread(\"img6.jpg\")\n",
        "my_img6_resized = resize(my_img6,(32,32,3))\n",
        "\n",
        "probabilities6 = model.predict(np.array([my_img6_resized,]))\n",
        "number_to_class6 = ['airplane','automobile', 'bird', 'cat', 'deer', 'dog', 'frog', 'horse', 'ship', 'truck']\n",
        "\n",
        "index = np.argsort(probabilities6[0,:])\n",
        "print(\"Image 6:\", number_to_class6[index[9]], \"-- Possibility:\", probabilities6[0,index[9]]*100, \"%\")\n",
        "\n",
        "\n",
        "# image 7\n",
        "my_img7 = plt.imread(\"img7.jpg\")\n",
        "my_img7_resized = resize(my_img7,(32,32,3))\n",
        "\n",
        "probabilities7 = model.predict(np.array([my_img7_resized,]))\n",
        "number_to_class7 = ['airplane','automobile', 'bird', 'cat', 'deer', 'dog', 'frog', 'horse', 'ship', 'truck']\n",
        "\n",
        "index = np.argsort(probabilities7[0,:])\n",
        "print(\"Image 7:\", number_to_class7[index[9]], \"-- Possibility:\", probabilities7[0,index[9]]*100, \"%\")\n",
        "\n",
        "\n",
        "# image 8\n",
        "my_img8 = plt.imread(\"img8.jpg\")\n",
        "my_img8_resized = resize(my_img8,(32,32,3))\n",
        "\n",
        "probabilities8 = model.predict(np.array([my_img8_resized,]))\n",
        "number_to_class8 = ['airplane','automobile', 'bird', 'cat', 'deer', 'dog', 'frog', 'horse', 'ship', 'truck']\n",
        "\n",
        "index = np.argsort(probabilities8[0,:])\n",
        "print(\"Image 8:\", number_to_class8[index[9]], \"-- Possibility:\", probabilities8[0,index[9]]*100, \"%\")\n",
        "\n",
        "# image 9\n",
        "my_img9 = plt.imread(\"img9.jpg\")\n",
        "my_img9_resized = resize(my_img9,(32,32,3))\n",
        "\n",
        "probabilities9 = model.predict(np.array([my_img9_resized,]))\n",
        "number_to_class9 = ['airplane','automobile', 'bird', 'cat', 'deer', 'dog', 'frog', 'horse', 'ship', 'truck']\n",
        "\n",
        "index = np.argsort(probabilities9[0,:])\n",
        "print(\"Image 9:\", number_to_class9[index[9]], \"-- Possibility:\", probabilities9[0,index[9]]*100, \"%\")\n",
        "\n",
        "# image 10\n",
        "my_img10 = plt.imread(\"img10.jpg\")\n",
        "my_img10_resized = resize(my_img10,(32,32,3))\n",
        "\n",
        "probabilities10 = model.predict(np.array([my_img10_resized,]))\n",
        "number_to_class10 = ['airplane','automobile', 'bird', 'cat', 'deer', 'dog', 'frog', 'horse', 'ship', 'truck']\n",
        "\n",
        "index = np.argsort(probabilities10[0,:])\n",
        "print(\"Image 10:\", number_to_class10[index[9]], \"-- Possibility:\", probabilities10[0,index[9]]*100, \"%\")\n"
      ]
    },
    {
      "cell_type": "code",
      "source": [
        ""
      ],
      "metadata": {
        "id": "vBQCShCqvd5Z"
      },
      "execution_count": null,
      "outputs": []
    }
  ]
}